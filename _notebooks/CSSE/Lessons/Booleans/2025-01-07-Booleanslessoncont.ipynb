{
 "cells": [
  {
   "cell_type": "raw",
   "metadata": {
    "vscode": {
     "languageId": "raw"
    }
   },
   "source": [
    "---\n",
    "layout: post\n",
    "title: Boolean Lesson 2\n",
    "description: Booleans continued\n",
    "categories: [Collaboration]\n",
    "courses: { csse: {week: 2}, csp: {week: 1}, csa: {week: 1} }\n",
    "type: collab\n",
    "comments: true\n",
    "sticky_rank: 1\n",
    "---"
   ]
  },
  {
   "cell_type": "markdown",
   "metadata": {},
   "source": [
    "<style>\n",
    "body {\n",
    "    color: white;\n",
    "    font-family: 'Courier New';\n",
    "}\n",
    "</style>\n",
    "\n",
    "<body>\n",
    "\n",
    "Booleans are just true and false statements. If you put \" 3 > 1\", the output would be true, because 3 is more than 1 (wow so amazing).\n",
    " \n",
    " \n",
    " ### Booleans Example\n",
    " Below is an example of what a boolean is. This is how they work\n",
    "\n",
    " </body>"
   ]
  },
  {
   "cell_type": "code",
   "execution_count": null,
   "metadata": {
    "vscode": {
     "languageId": "javascript"
    }
   },
   "outputs": [],
   "source": [
    "%%js\n",
    "\n",
    "//You can use these to check your booleans\n",
    "let keyInserted = true;\n",
    "let correctKey = false;\n",
    "let lockPick = true;\n",
    "\n",
    "if (lockPick) {\n",
    "    console.log(\"Door opened.\")\n",
    "}\n",
    "else {\n",
    "    //Check if the key you have was inserted and is the correct key\n",
    "    if (keyInserted){\n",
    "        console.log(\"Inserted key into door.\")\n",
    "    }\n",
    "    else {\n",
    "        console.log(\"Insert key into door.\")\n",
    "    }\n",
    "    if (keyInserted && correctKey){\n",
    "        console.log(\"Door opened.\")\n",
    "    }\n",
    "    else {\n",
    "        console.log(\"Incorrect key.\")\n",
    "    }\n",
    "}\n",
    "\n"
   ]
  }
 ],
 "metadata": {
  "kernelspec": {
   "display_name": "Python 3 (ipykernel)",
   "language": "python",
   "name": "python3"
  },
  "language_info": {
   "codemirror_mode": {
    "name": "ipython",
    "version": 3
   },
   "file_extension": ".py",
   "mimetype": "text/x-python",
   "name": "python",
   "nbconvert_exporter": "python",
   "pygments_lexer": "ipython3",
   "version": "3.10.12"
  }
 },
 "nbformat": 4,
 "nbformat_minor": 2
}
