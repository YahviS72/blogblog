{
 "cells": [
  {
   "cell_type": "markdown",
   "metadata": {},
   "source": [
    "<h1>Booleans lesson 1</h1>\n",
    "<b1>Booleans are a data type in JavaScript that can represent one of two values, true or false. In this tutorial, we will explore the boolean data type and how it is used in JavaScript. </b1>\n"
   ]
  },
  {
   "cell_type": "markdown",
   "metadata": {},
   "source": [
    "---\n",
    "comments: True\n",
    "layout: post\n",
    "title: Javascript Boolean Data Type\n",
    "description: Booleans are a type of data that can represent only two possible values: true or false. In this guide, we will explore how the boolean data type works in JavaScript.\n",
    "author: Popcorn\n",
    "permalink: /csse/javascript/fundamentals/booleans/p1\n",
    "categories: [CSSE JavaScript Fundamentals]\n",
    "---"
   ]
  },
  {
   "cell_type": "markdown",
   "metadata": {
    "vscode": {
     "languageId": "plaintext"
    }
   },
   "source": [
    "What is booleans? Booleans are a fundamental data type in programming that represent two possible values: true or false. They are commonly used to make decisions in code, control the flow of programs through conditional statements, and evaluate logical expressions. Booleans are essential for comparisons, determining equality, and managing program logic effectively."
   ]
  },
  {
   "cell_type": "markdown",
   "metadata": {
    "vscode": {
     "languageId": "bat"
    }
   },
   "source": [
    "== (Equal to): Checks if two values are equal in value but not necessarily in type (e.g., comparing numbers and strings with similar content like 5 == '5' evaluates to true).\n",
    "\n",
    "!= (Not equal to): Checks if two values are different in value but not necessarily in type (e.g., 5 != '5' evaluates to false).\n",
    "\n",
    "=== (Strict equal to): Checks if two values are equal in both value and type (e.g., 5 === '5' evaluates to false because one is a number and the other is a string).\n",
    "\n",
    "!== (Strict not equal to): Checks if two values are different in either value or type (e.g., 5 !== '5' evaluates to true).\n",
    "\n",
    "> (Greater than): Checks if the left value is larger than the right value (e.g., 10 > 5 evaluates to true).\n",
    "\n",
    "< (Less than): Checks if the left value is smaller than the right value (e.g., 3 < 7 evaluates to true).\n",
    "\n",
    ">= (Greater than or equal to): Checks if the left value is larger than or equal to the right value (e.g., 18 >= 18 evaluates to true).\n",
    "\n",
    "<= (Less than or equal to): Checks if the left value is smaller than or equal to the right value (e.g., 5 <= 10 evaluates to true)."
   ]
  }
 ],
 "metadata": {
  "language_info": {
   "name": "python"
  }
 },
 "nbformat": 4,
 "nbformat_minor": 2
}
